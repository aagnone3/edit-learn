{
 "cells": [
  {
   "cell_type": "code",
   "execution_count": 58,
   "metadata": {},
   "outputs": [],
   "source": [
    "import os\n",
    "import numpy as np\n",
    "import pandas as pd\n",
    "import seaborn as sns\n",
    "from collections import Counter\n",
    "from matplotlib import pyplot as plt\n",
    "from sklearn.ensemble import RandomForestRegressor, GradientBoostingRegressor, IsolationForest\n",
    "from sklearn.model_selection import StratifiedShuffleSplit, train_test_split, GridSearchCV\n",
    "from sklearn.metrics import r2_score, mean_squared_error\n",
    "\n",
    "sns.set(color_codes=True)\n",
    "%matplotlib inline\n"
   ]
  },
  {
   "cell_type": "code",
   "execution_count": 16,
   "metadata": {},
   "outputs": [
    {
     "name": "stdout",
     "output_type": "stream",
     "text": [
      "3066 samples\n"
     ]
    }
   ],
   "source": [
    "df = pd.read_csv(\"after_merge.csv\")\n",
    "print(\"{} samples\".format(df.shape[0]))\n"
   ]
  },
  {
   "cell_type": "code",
   "execution_count": 3,
   "metadata": {},
   "outputs": [
    {
     "name": "stdout",
     "output_type": "stream",
     "text": [
      "512 embedding features\n",
      "41 exif data features\n",
      "553 features\n",
      "Removing 1 features with more than 0 null values.\n",
      "Finalized 552 features\n"
     ]
    }
   ],
   "source": [
    "embedding_cols = [\"F{}\".format(i + 1) for i in range(512)]\n",
    "exif_cols = [col for col in df.columns if \"exif\" in col]\n",
    "feature_cols = embedding_cols + exif_cols\n",
    "features = df.loc[:, feature_cols]\n",
    "\n",
    "print(\"{} embedding features\".format(len(embedding_cols)))\n",
    "print(\"{} exif data features\".format(len(exif_cols)))\n",
    "print(\"{} features\".format(features.shape[1]))\n",
    "\n",
    "null_mask = features.isnull().sum() > 0\n",
    "print(\"Removing {} features with more than 0 null values.\".format(len(null_mask[null_mask])))\n",
    "features = features.loc[:, ~null_mask]\n",
    "\n",
    "print(\"Finalized {} features\".format(features.shape[1]))\n"
   ]
  },
  {
   "cell_type": "code",
   "execution_count": 13,
   "metadata": {},
   "outputs": [
    {
     "name": "stdout",
     "output_type": "stream",
     "text": [
      "Started with 165 labels\n",
      "\n",
      "Removing 93 tone curve labels.\n",
      "\n",
      "Removing 22 labels with small variance.\n",
      "Index(['crs:ParametricDarks_0', 'crs:ParametricLights_0',\n",
      "       'crs:ParametricHighlights_0', 'crs:PostCropVignetteAmount_0',\n",
      "       'crs:LensManualDistortionAmount_0', 'crs:PerspectiveHorizontal_0',\n",
      "       'crs:PerspectiveRotate_0', 'crs:PerspectiveAspect_0',\n",
      "       'crs:PerspectiveUpright_0', 'crs:PerspectiveX_0', 'crs:PerspectiveY_0',\n",
      "       'crs:AutoLateralCA_0', 'crs:DefringePurpleAmount_0',\n",
      "       'crs:DefringeGreenAmount_0', 'crs:ToneMapStrength_0',\n",
      "       'crs:ConvertToGrayscale', 'crs:UprightCenterMode_0',\n",
      "       'crs:UprightCenterNormX_0', 'crs:UprightCenterNormY_0',\n",
      "       'crs:UprightFocalMode_0', 'crs:UprightPreview',\n",
      "       'crs:UprightFourSegmentsCount_0'],\n",
      "      dtype='object')\n",
      "\n",
      "Finalized 71 labels\n"
     ]
    }
   ],
   "source": [
    "label_cols = [col for col in df.columns if \"crs\" in col]\n",
    "labels = df.loc[:, label_cols]\n",
    "print(\"Started with {} labels\".format(labels.shape[1]))\n",
    "\n",
    "no_tone_curve_cols = [col for col in labels.columns if \"ToneCurve\" not in col]\n",
    "print(\"\\nRemoving {} tone curve labels.\".format(len(no_tone_curve_cols)))\n",
    "labels = labels.loc[:, labels.columns.isin(no_tone_curve_cols)]\n",
    "\n",
    "MIN_VAR = 0.1\n",
    "low_var = labels.var() < MIN_VAR\n",
    "print(\"\\nRemoving {} labels with small variance.\".format(len(low_var[low_var])))\n",
    "print(low_var[low_var].index)\n",
    "labels = labels.loc[:, ~low_var]\n",
    "\n",
    "print(\"\\nFinalized {} labels\".format(labels.shape[1]))\n"
   ]
  },
  {
   "cell_type": "code",
   "execution_count": null,
   "metadata": {
    "collapsed": true
   },
   "outputs": [],
   "source": []
  },
  {
   "cell_type": "code",
   "execution_count": 5,
   "metadata": {
    "collapsed": true
   },
   "outputs": [],
   "source": [
    "# sns.jointplot(x=label_cols[3], y=label_cols[2], data=labels)\n",
    "\n",
    "# corr = np.corrcoef(labels.values.T)\n",
    "# corr[np.tril_indices(corr.shape[0])] = 0\n",
    "\n",
    "# high_corrs = np.where(abs(corr) > 0.9)\n",
    "# n_match = len(high_corrs[0])\n",
    "# print(n_match)\n",
    "# for i in range(n_match):\n",
    "#     i1, i2 = high_corrs[0][i], high_corrs[1][i]\n",
    "#     print(\"{},{}: {:.3f}\".format(i1, i2, corr[i1, i2]))\n",
    "\n",
    "# print(corr.shape)\n",
    "# for i in range(corr.shape[0]):\n",
    "#     for j in range(corr.shape[0]):\n",
    "#         if i != j and corr[i, j] == 1:\n",
    "#             print(\"{} and {}\".format(no_tone_curve_cols[i], no_tone_curve_cols[j]))\n"
   ]
  },
  {
   "cell_type": "code",
   "execution_count": 6,
   "metadata": {},
   "outputs": [
    {
     "name": "stdout",
     "output_type": "stream",
     "text": [
      "40\n",
      "81: crs:Temperature_0\n",
      "67: crs:Contrast2012_0\n",
      "60: crs:Shadows2012_0\n",
      "48: crs:Exposure2012_0\n",
      "48: crs:Highlights2012_0\n",
      "40: crs:Blacks2012_0\n",
      "37: crs:Tint_0\n",
      "30: crs:Whites2012_0\n",
      "24: crs:Sharpness_0\n",
      "23: crs:SaturationAdjustmentYellow_0\n",
      "21: crs:SaturationAdjustmentOrange_0\n",
      "20: crs:SaturationAdjustmentGreen_0\n",
      "18: crs:Saturation_0\n",
      "17: crs:SaturationAdjustmentRed_0\n",
      "17: crs:SaturationAdjustmentBlue_0\n",
      "16: crs:SplitToningShadowSaturation_0\n",
      "15: crs:SplitToningShadowHue_0\n",
      "14: crs:HueAdjustmentOrange_0\n",
      "14: crs:HueAdjustmentYellow_0\n",
      "12: crs:Vibrance_0\n"
     ]
    }
   ],
   "source": [
    "categ = [col for col in labels.columns if len(labels[col].unique()) < 10]\n",
    "print(len(categ))\n",
    "\n",
    "n_uniques = [len(labels[col].unique()) for col in labels.columns]\n",
    "sorted_n_uniques = sorted(zip(labels.columns, n_uniques), key=lambda e: e[1], reverse=True)\n",
    "for col, n_unique in sorted_n_uniques[:20]:\n",
    "    print(\"{}: {}\".format(n_unique, col))"
   ]
  },
  {
   "cell_type": "code",
   "execution_count": 42,
   "metadata": {},
   "outputs": [],
   "source": [
    "X = features.values\n"
   ]
  },
  {
   "cell_type": "code",
   "execution_count": 205,
   "metadata": {},
   "outputs": [
    {
     "name": "stdout",
     "output_type": "stream",
     "text": [
      "Train MSE: 444095.93393268524\n",
      "Test  MSE: 4303620.363943612\n",
      "R2: 0.7631019747769623\n"
     ]
    },
    {
     "data": {
      "text/plain": [
       "<seaborn.axisgrid.JointGrid at 0x11f4ebd68>"
      ]
     },
     "execution_count": 205,
     "metadata": {},
     "output_type": "execute_result"
    },
    {
     "data": {
      "image/png": "[encoded data removed]",
      "text/plain": [
       "<matplotlib.figure.Figure at 0x11f4eb2b0>"
      ]
     },
     "metadata": {},
     "output_type": "display_data"
    }
   ],
   "source": [
    "y = labels[\"crs:Temperature_0\"].values\n",
    "X_train, X_test, y_train, y_test = train_test_split(X, y, train_size=0.8)\n",
    "\n",
    "clf = GradientBoostingRegressor(\n",
    "    n_estimators=150,\n",
    "    max_features=None,\n",
    "    max_depth=4\n",
    ")\n",
    "clf.fit(X_train, y_train)\n",
    "y_pred_train = clf.predict(X_train)\n",
    "print(\"Train MSE: {}\".format(mean_squared_error(y_train, y_pred_train)))\n",
    "\n",
    "y_pred = clf.predict(X_test)\n",
    "print(\"Test  MSE: {}\".format(mean_squared_error(y_test, y_pred)))\n",
    "print(\"R2: {}\".format(r2_score(y_test, y_pred)))\n",
    "\n",
    "sns.jointplot(x=y_test, y=y_pred, kind=\"reg\")\n"
   ]
  },
  {
   "cell_type": "code",
   "execution_count": 76,
   "metadata": {},
   "outputs": [
    {
     "name": "stdout",
     "output_type": "stream",
     "text": [
      "Train MSE: 26.452780934859064\n",
      "Test  MSE: 423.4572945132924\n",
      "R2: 0.3903758568295924\n"
     ]
    },
    {
     "data": {
      "text/html": [
       "<div>\n",
       "<style>\n",
       "    .dataframe thead tr:only-child th {\n",
       "        text-align: right;\n",
       "    }\n",
       "\n",
       "    .dataframe thead th {\n",
       "        text-align: left;\n",
       "    }\n",
       "\n",
       "    .dataframe tbody tr th {\n",
       "        vertical-align: top;\n",
       "    }\n",
       "</style>\n",
       "<table border=\"1\" class=\"dataframe\">\n",
       "  <thead>\n",
       "    <tr style=\"text-align: right;\">\n",
       "      <th></th>\n",
       "      <th>mean_test_score</th>\n",
       "      <th>mean_train_score</th>\n",
       "      <th>param_max_features</th>\n",
       "      <th>param_n_estimators</th>\n",
       "      <th>param_max_depth</th>\n",
       "      <th>rank_test_score</th>\n",
       "    </tr>\n",
       "  </thead>\n",
       "  <tbody>\n",
       "    <tr>\n",
       "      <th>11</th>\n",
       "      <td>0.587888</td>\n",
       "      <td>0.983404</td>\n",
       "      <td>auto</td>\n",
       "      <td>100</td>\n",
       "      <td>6</td>\n",
       "      <td>1</td>\n",
       "    </tr>\n",
       "    <tr>\n",
       "      <th>13</th>\n",
       "      <td>0.585355</td>\n",
       "      <td>0.996405</td>\n",
       "      <td>None</td>\n",
       "      <td>50</td>\n",
       "      <td>10</td>\n",
       "      <td>2</td>\n",
       "    </tr>\n",
       "    <tr>\n",
       "      <th>8</th>\n",
       "      <td>0.585296</td>\n",
       "      <td>0.985337</td>\n",
       "      <td>None</td>\n",
       "      <td>100</td>\n",
       "      <td>6</td>\n",
       "      <td>3</td>\n",
       "    </tr>\n",
       "    <tr>\n",
       "      <th>17</th>\n",
       "      <td>0.581628</td>\n",
       "      <td>0.999949</td>\n",
       "      <td>auto</td>\n",
       "      <td>100</td>\n",
       "      <td>10</td>\n",
       "      <td>4</td>\n",
       "    </tr>\n",
       "    <tr>\n",
       "      <th>14</th>\n",
       "      <td>0.578530</td>\n",
       "      <td>0.999957</td>\n",
       "      <td>None</td>\n",
       "      <td>100</td>\n",
       "      <td>10</td>\n",
       "      <td>5</td>\n",
       "    </tr>\n",
       "    <tr>\n",
       "      <th>7</th>\n",
       "      <td>0.578400</td>\n",
       "      <td>0.933891</td>\n",
       "      <td>None</td>\n",
       "      <td>50</td>\n",
       "      <td>6</td>\n",
       "      <td>6</td>\n",
       "    </tr>\n",
       "    <tr>\n",
       "      <th>10</th>\n",
       "      <td>0.573403</td>\n",
       "      <td>0.928234</td>\n",
       "      <td>auto</td>\n",
       "      <td>50</td>\n",
       "      <td>6</td>\n",
       "      <td>7</td>\n",
       "    </tr>\n",
       "    <tr>\n",
       "      <th>16</th>\n",
       "      <td>0.573139</td>\n",
       "      <td>0.996494</td>\n",
       "      <td>auto</td>\n",
       "      <td>50</td>\n",
       "      <td>10</td>\n",
       "      <td>8</td>\n",
       "    </tr>\n",
       "    <tr>\n",
       "      <th>2</th>\n",
       "      <td>0.522495</td>\n",
       "      <td>0.786904</td>\n",
       "      <td>None</td>\n",
       "      <td>100</td>\n",
       "      <td>3</td>\n",
       "      <td>9</td>\n",
       "    </tr>\n",
       "    <tr>\n",
       "      <th>5</th>\n",
       "      <td>0.521486</td>\n",
       "      <td>0.786904</td>\n",
       "      <td>auto</td>\n",
       "      <td>100</td>\n",
       "      <td>3</td>\n",
       "      <td>10</td>\n",
       "    </tr>\n",
       "    <tr>\n",
       "      <th>4</th>\n",
       "      <td>0.492956</td>\n",
       "      <td>0.664917</td>\n",
       "      <td>auto</td>\n",
       "      <td>50</td>\n",
       "      <td>3</td>\n",
       "      <td>11</td>\n",
       "    </tr>\n",
       "    <tr>\n",
       "      <th>1</th>\n",
       "      <td>0.490599</td>\n",
       "      <td>0.664917</td>\n",
       "      <td>None</td>\n",
       "      <td>50</td>\n",
       "      <td>3</td>\n",
       "      <td>12</td>\n",
       "    </tr>\n",
       "    <tr>\n",
       "      <th>15</th>\n",
       "      <td>0.478774</td>\n",
       "      <td>0.731700</td>\n",
       "      <td>auto</td>\n",
       "      <td>10</td>\n",
       "      <td>10</td>\n",
       "      <td>13</td>\n",
       "    </tr>\n",
       "    <tr>\n",
       "      <th>12</th>\n",
       "      <td>0.475674</td>\n",
       "      <td>0.731715</td>\n",
       "      <td>None</td>\n",
       "      <td>10</td>\n",
       "      <td>10</td>\n",
       "      <td>14</td>\n",
       "    </tr>\n",
       "    <tr>\n",
       "      <th>6</th>\n",
       "      <td>0.457384</td>\n",
       "      <td>0.584420</td>\n",
       "      <td>None</td>\n",
       "      <td>10</td>\n",
       "      <td>6</td>\n",
       "      <td>15</td>\n",
       "    </tr>\n",
       "    <tr>\n",
       "      <th>9</th>\n",
       "      <td>0.456410</td>\n",
       "      <td>0.584473</td>\n",
       "      <td>auto</td>\n",
       "      <td>10</td>\n",
       "      <td>6</td>\n",
       "      <td>16</td>\n",
       "    </tr>\n",
       "    <tr>\n",
       "      <th>0</th>\n",
       "      <td>0.311300</td>\n",
       "      <td>0.367570</td>\n",
       "      <td>None</td>\n",
       "      <td>10</td>\n",
       "      <td>3</td>\n",
       "      <td>17</td>\n",
       "    </tr>\n",
       "    <tr>\n",
       "      <th>3</th>\n",
       "      <td>0.308575</td>\n",
       "      <td>0.367570</td>\n",
       "      <td>auto</td>\n",
       "      <td>10</td>\n",
       "      <td>3</td>\n",
       "      <td>18</td>\n",
       "    </tr>\n",
       "  </tbody>\n",
       "</table>\n",
       "</div>"
      ],
      "text/plain": [
       "    mean_test_score  mean_train_score param_max_features param_n_estimators  \\\n",
       "11         0.587888          0.983404               auto                100   \n",
       "13         0.585355          0.996405               None                 50   \n",
       "8          0.585296          0.985337               None                100   \n",
       "17         0.581628          0.999949               auto                100   \n",
       "14         0.578530          0.999957               None                100   \n",
       "7          0.578400          0.933891               None                 50   \n",
       "10         0.573403          0.928234               auto                 50   \n",
       "16         0.573139          0.996494               auto                 50   \n",
       "2          0.522495          0.786904               None                100   \n",
       "5          0.521486          0.786904               auto                100   \n",
       "4          0.492956          0.664917               auto                 50   \n",
       "1          0.490599          0.664917               None                 50   \n",
       "15         0.478774          0.731700               auto                 10   \n",
       "12         0.475674          0.731715               None                 10   \n",
       "6          0.457384          0.584420               None                 10   \n",
       "9          0.456410          0.584473               auto                 10   \n",
       "0          0.311300          0.367570               None                 10   \n",
       "3          0.308575          0.367570               auto                 10   \n",
       "\n",
       "   param_max_depth  rank_test_score  \n",
       "11               6                1  \n",
       "13              10                2  \n",
       "8                6                3  \n",
       "17              10                4  \n",
       "14              10                5  \n",
       "7                6                6  \n",
       "10               6                7  \n",
       "16              10                8  \n",
       "2                3                9  \n",
       "5                3               10  \n",
       "4                3               11  \n",
       "1                3               12  \n",
       "15              10               13  \n",
       "12              10               14  \n",
       "6                6               15  \n",
       "9                6               16  \n",
       "0                3               17  \n",
       "3                3               18  "
      ]
     },
     "execution_count": 76,
     "metadata": {},
     "output_type": "execute_result"
    },
    {
     "data": {
      "image/png": "[encoded data removed]",
      "text/plain": [
       "<matplotlib.figure.Figure at 0x118478438>"
      ]
     },
     "metadata": {},
     "output_type": "display_data"
    }
   ],
   "source": [
    "# y = labels[\"crs:Contrast2012_0\"].values\n",
    "# X_train, X_test, y_train, y_test = train_test_split(X, y, train_size=0.8)\n",
    "\n",
    "params = {\n",
    "    \"n_estimators\": [50, 100],\n",
    "    \"max_features\": [None, \"auto\"],\n",
    "    \"max_depth\": [3, 6, 10]\n",
    "}\n",
    "\n",
    "clf = GridSearchCV(GradientBoostingRegressor(), params, n_jobs=-1)\n",
    "clf.fit(X_train, y_train)\n",
    "y_pred_train = clf.predict(X_train)\n",
    "print(\"Train MSE: {}\".format(mean_squared_error(y_train, y_pred_train)))\n",
    "\n",
    "y_pred = grid.predict(X_test)\n",
    "print(\"Test  MSE: {}\".format(mean_squared_error(y_test, y_pred)))\n",
    "print(\"R2: {}\".format(r2_score(y_test, y_pred)))\n",
    "\n",
    "sns.jointplot(x=y_test, y=y_pred, kind=\"reg\")\n",
    "desired_columns = [\"mean_test_score\", \"mean_train_score\"] +\\\n",
    "                    list(filter(lambda c: \"param_\" in c, clf.cv_results_.keys())) +\\\n",
    "                    list(filter(lambda c: \"rank\" in c, clf.cv_results_.keys()))\n",
    "pd.DataFrame.from_dict(clf.cv_results_).loc[:, desired_columns].sort_values(\"rank_test_score\")\n"
   ]
  },
  {
   "cell_type": "code",
   "execution_count": 57,
   "metadata": {},
   "outputs": [
    {
     "name": "stdout",
     "output_type": "stream",
     "text": [
      "Top 10 features and importances\n",
      "0.023: F185\n",
      "0.024: F380\n",
      "0.026: F73\n",
      "0.029: exif:ExposureTime_0\n",
      "0.031: F339\n",
      "0.033: exif:MeteringMode_0\n",
      "0.033: exif:ShutterSpeedValue_0\n",
      "0.039: exif:FNumber_0\n",
      "0.042: exif:ApertureValue_0\n",
      "0.051: exif:Flash/exif:Fired\n"
     ]
    },
    {
     "data": {
      "image/png": "[encoded data removed]",
      "text/plain": [
       "<matplotlib.figure.Figure at 0x116ae9128>"
      ]
     },
     "metadata": {},
     "output_type": "display_data"
    }
   ],
   "source": [
    "importance_inds = np.argsort(clf.feature_importances_)\n",
    "sns.distplot(np.sort(clf.feature_importances_))\n",
    "top_k = 10\n",
    "print(\"Top {} features and importances\".format(top_k))\n",
    "for ind in importance_inds[-top_k:]:\n",
    "    print(\"{:.3f}: {}\".format(clf.feature_importances_[ind], feature_cols[ind]))"
   ]
  }
 ],
 "metadata": {
  "kernelspec": {
   "display_name": "Python 3",
   "language": "python",
   "name": "python3"
  },
  "language_info": {
   "codemirror_mode": {
    "name": "ipython",
    "version": 3
   },
   "file_extension": ".py",
   "mimetype": "text/x-python",
   "name": "python",
   "nbconvert_exporter": "python",
   "pygments_lexer": "ipython3",
   "version": "3.5.4"
  }
 },
 "nbformat": 4,
 "nbformat_minor": 2
}
