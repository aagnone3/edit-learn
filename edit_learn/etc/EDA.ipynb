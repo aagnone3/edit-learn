{
 "cells": [
  {
   "cell_type": "code",
   "execution_count": 1,
   "metadata": {
    "collapsed": true
   },
   "outputs": [],
   "source": [
    "import pandas as pd\n",
    "import numpy as np\n",
    "from sklearn.preprocessing import RobustScaler\n"
   ]
  },
  {
   "cell_type": "code",
   "execution_count": 15,
   "metadata": {},
   "outputs": [
    {
     "name": "stdout",
     "output_type": "stream",
     "text": [
      "Working with 203 features for 990 samples.\n"
     ]
    }
   ],
   "source": [
    "df = pd.read_csv(\"labels.csv\")\n",
    "n_labels, n_labels = df.shape\n",
    "print(\"Working with {} labels for {} samples.\".format(n_labels, n_samples))"
   ]
  },
  {
   "cell_type": "code",
   "execution_count": 16,
   "metadata": {},
   "outputs": [
    {
     "name": "stdout",
     "output_type": "stream",
     "text": [
      "# bad labels: 9\n",
      "Bad labels: Index(['crs:ToneCurve_0', 'crs:ToneCurveRed_0', 'crs:ToneCurveGreen_0',\n",
      "       'crs:ToneCurveBlue_0', 'crs:ToneCurvePV2012_0',\n",
      "       'crs:ToneCurvePV2012Red_0', 'crs:ToneCurvePV2012Green_0',\n",
      "       'crs:ToneCurvePV2012Blue_0', 'exif:ISOSpeedRatings_0'],\n",
      "      dtype='object')\n",
      "# labels after filtering bad labels: 194\n"
     ]
    }
   ],
   "source": [
    "# find missing values and remove for now\n",
    "missing_labels = df.isnull()\n",
    "perc_missing_labels = missing_labels.astype(int).sum() / n_samples\n",
    "\n",
    "# define a bad label as one with at least 10% of its occurrences missing.\n",
    "# detect bad labels\n",
    "BAD_FEAT_PERC_THRESH = 0.1\n",
    "bad_label_mask = perc_missing_labels >= BAD_FEAT_PERC_THRESH\n",
    "bad_labels = df.columns[bad_label_mask]\n",
    "n_bad_labels = len(bad_labels)\n",
    "print(\"# bad labels: {}\".format(n_bad_labels))\n",
    "if n_bad_labels < 20:\n",
    "    print(\"Bad labels: {}\".format(bad_labels))\n",
    "    \n",
    "# filter out bad labels\n",
    "df = df.loc[:, ~bad_label_mask]\n",
    "\n",
    "print(\"# labels after filtering bad labels: {}\".format(len(df.columns)))\n"
   ]
  },
  {
   "cell_type": "code",
   "execution_count": 27,
   "metadata": {},
   "outputs": [
    {
     "name": "stdout",
     "output_type": "stream",
     "text": [
      "# features with small deviation: 116\n"
     ]
    }
   ],
   "source": [
    "# detect labels that rarely change\n",
    "MIN_STD = 0.01\n",
    "stds = df.std().sort_values()\n",
    "small_std_mask = stds <= MIN_STD\n",
    "small_std = stds.loc[small_std_mask]\n",
    "acceptable_std = stds.loc[~small_std_mask]\n",
    "\n",
    "print(\"# features with small deviation: {}\".format(len(small_std)))\n"
   ]
  },
  {
   "cell_type": "code",
   "execution_count": 34,
   "metadata": {},
   "outputs": [
    {
     "data": {
      "text/plain": [
       "crs:ToneCurvePV2012[4]_0               11.392640\n",
       "crs:SaturationAdjustmentMagenta_0      11.470868\n",
       "crs:Contrast2012_0                     11.929205\n",
       "crs:ToneCurvePV2012[2]_1               12.711650\n",
       "crs:SaturationAdjustmentBlue_0         13.139646\n",
       "crs:SplitToningBalance_0               15.697046\n",
       "crs:Blacks2012_0                       19.780787\n",
       "crs:Shadows2012_0                      22.956845\n",
       "crs:Highlights2012_0                   26.580297\n",
       "exif:FocalLengthIn35mmFilm_0           27.110031\n",
       "exif:FocalLength_0                     27.110031\n",
       "crs:ToneCurvePV2012Red[2]_0            28.725593\n",
       "crs:ToneCurvePV2012Blue[2]_0           29.353475\n",
       "crs:ToneCurvePV2012Green[2]_0          29.510446\n",
       "crs:ToneCurvePV2012Red[2]_1            33.905618\n",
       "crs:ToneCurvePV2012Blue[2]_1           34.219559\n",
       "crs:ToneCurvePV2012Green[2]_1          34.533500\n",
       "crs:SplitToningShadowHue_0             36.888057\n",
       "exif:ISOSpeedRatings[1]_0             915.124736\n",
       "crs:Temperature_0                    1128.238398\n",
       "dtype: float64"
      ]
     },
     "execution_count": 34,
     "metadata": {},
     "output_type": "execute_result"
    }
   ],
   "source": [
    "stds.tail(20)"
   ]
  },
  {
   "cell_type": "code",
   "execution_count": null,
   "metadata": {
    "collapsed": true
   },
   "outputs": [],
   "source": []
  }
 ],
 "metadata": {
  "kernelspec": {
   "display_name": "Python 3",
   "language": "python",
   "name": "python3"
  },
  "language_info": {
   "codemirror_mode": {
    "name": "ipython",
    "version": 3
   },
   "file_extension": ".py",
   "mimetype": "text/x-python",
   "name": "python",
   "nbconvert_exporter": "python",
   "pygments_lexer": "ipython3",
   "version": "3.5.4"
  }
 },
 "nbformat": 4,
 "nbformat_minor": 2
}
